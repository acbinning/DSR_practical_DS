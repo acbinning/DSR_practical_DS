{
 "cells": [
  {
   "cell_type": "markdown",
   "id": "851b5c81-d773-46bc-a223-65dfbab13732",
   "metadata": {},
   "source": [
    "## Customer Churn Prediction Model\n",
    "\n",
    "Using the [Telco customer churn data](https://www.kaggle.com/code/mechatronixs/telco-churn-prediction-feature-engineering-eda/data) from kaggle, train a machine learning model to predict customer churn."
   ]
  },
  {
   "cell_type": "code",
   "execution_count": 1,
   "id": "c2b1d345-2798-4987-9c1a-234ecd77cdfd",
   "metadata": {},
   "outputs": [],
   "source": [
    "import pandas as pd"
   ]
  },
  {
   "cell_type": "code",
   "execution_count": 2,
   "id": "35cc697b-2333-49e0-a1b2-c81266c43059",
   "metadata": {},
   "outputs": [],
   "source": [
    "# get training data\n",
    "train = pd.read_csv(\"./data/training_data.csv\")\n",
    "# drop customer ID: not a feature for training \n",
    "train.drop(\"customerID\", axis=1, inplace=True)\n",
    "\n",
    "# getting validation data\n",
    "val = pd.read_csv(\"./data/validation_data.csv\")"
   ]
  }
 ],
 "metadata": {
  "kernelspec": {
   "display_name": "Python 3 (ipykernel)",
   "language": "python",
   "name": "python3"
  },
  "language_info": {
   "codemirror_mode": {
    "name": "ipython",
    "version": 3
   },
   "file_extension": ".py",
   "mimetype": "text/x-python",
   "name": "python",
   "nbconvert_exporter": "python",
   "pygments_lexer": "ipython3",
   "version": "3.7.9"
  }
 },
 "nbformat": 4,
 "nbformat_minor": 5
}
